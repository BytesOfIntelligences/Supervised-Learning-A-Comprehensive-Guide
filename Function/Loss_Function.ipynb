{
  "nbformat": 4,
  "nbformat_minor": 0,
  "metadata": {
    "colab": {
      "private_outputs": true,
      "provenance": []
    },
    "kernelspec": {
      "name": "python3",
      "display_name": "Python 3"
    },
    "language_info": {
      "name": "python"
    }
  },
  "cells": [
    {
      "cell_type": "markdown",
      "source": [
        "### Mean Squared Error (MSE)"
      ],
      "metadata": {
        "id": "BmgK7FZaAJI3"
      }
    },
    {
      "cell_type": "code",
      "execution_count": null,
      "metadata": {
        "id": "CgoyRuMUjXmh"
      },
      "outputs": [],
      "source": [
        "import numpy as np\n",
        "\n",
        "# Define Fiuntion\n",
        "\n",
        "def mean_squared_error(y_i, y_hat):\n",
        "    number_length = len(y_i)\n",
        "    squared_error = (y_i - y_hat)**2\n",
        "    mean_squared_error_value = np.mean(squared_error)# if we want to return Deciman value Call only single slash or if we want int return than call duble slash\n",
        "    return mean_squared_error_value\n",
        "\n",
        "y_i = np.array([2, 4, 7, 5, 8])\n",
        "y_pred = np.array([2.5, 3.5, 6.5, 4.5, 8.5])\n",
        "mean_squared_error_value_cal = mean_squared_error(y_i, y_pred)\n",
        "print(f\"Mean Squared Error: {mean_squared_error_value_cal}\")"
      ]
    },
    {
      "cell_type": "markdown",
      "source": [
        "### Mean Absoulte Error"
      ],
      "metadata": {
        "id": "wonoXwrMCTpp"
      }
    },
    {
      "cell_type": "code",
      "source": [
        "import numpy as np\n",
        "\n",
        "# Define Fiuntion\n",
        "\n",
        "def mean_squared_error(y_i, y_hat):\n",
        "    number_length = len(y_i)\n",
        "    squared_error = np.abs(y_i - y_hat)\n",
        "    mean_squared_error_value = np.mean(squared_error)# if we want to return Deciman value Call only single slash or if we want int return than call duble slash\n",
        "    return mean_squared_error_value\n",
        "\n",
        "y_i = np.array([2, 4, 7, 5, 8])\n",
        "y_pred = np.array([2.5, 3.5, 6.5, 4.5, 8.5])\n",
        "mean_squared_error_value_cal = mean_squared_error(y_i, y_pred)\n",
        "print(f\"Mean Squared Error: {mean_squared_error_value_cal}\")"
      ],
      "metadata": {
        "id": "Mk2Ym6YKBm7c"
      },
      "execution_count": null,
      "outputs": []
    },
    {
      "cell_type": "markdown",
      "source": [
        "### Hinge Loss:"
      ],
      "metadata": {
        "id": "dtTpyKi-CZMO"
      }
    },
    {
      "cell_type": "code",
      "source": [
        "import numpy as np\n",
        "\n",
        "def hinge_loss_cal(y_i, y_hat):\n",
        "    hinge_loss_value = np.maximum(0, (1- (y_i*y_hat)))\n",
        "    return hinge_loss_value\n",
        "\n",
        "y_i = np.array([1, -1, 1, -1, 1])\n",
        "y_pred = np.array([0.8, -0.5, 0.9, -1.2, 0.7])\n",
        "hinge_loss_cal_value_cal = hinge_loss_cal(y_i, y_pred)\n",
        "print(f\"Hinge Loss Calculated Values : {hinge_loss_cal_value_cal}\")"
      ],
      "metadata": {
        "id": "JqlOYgGmCOht"
      },
      "execution_count": null,
      "outputs": []
    },
    {
      "cell_type": "code",
      "source": [
        "import numpy as np\n",
        "\n",
        "def huber_loss_cal(y_i, y_hat, delta):\n",
        "    mean_aboulte_value_cal = np.abs(y_i- y_hat)\n",
        "    if mean_aboulte_value_cal <= delta:\n",
        "        huber_loss = 0.5 * (y_i - y_hat)**2\n",
        "    else:\n",
        "        huber_loss = delta * mean_aboulte_value_cal - 0.5*delta**2\n",
        "\n",
        "    return huber_loss"
      ],
      "metadata": {
        "id": "LwNKKQ3oDxoW"
      },
      "execution_count": null,
      "outputs": []
    },
    {
      "cell_type": "code",
      "source": [
        "actual_value = 5\n",
        "pred_value = 8\n",
        "delta = 1\n",
        "print(f\"Huber Loss Value is: {huber_loss_cal(actual_value, pred_value, delta)}\")"
      ],
      "metadata": {
        "id": "_Ojy8wmcEtcK"
      },
      "execution_count": null,
      "outputs": []
    },
    {
      "cell_type": "code",
      "source": [],
      "metadata": {
        "id": "aOhB65lLFA0B"
      },
      "execution_count": null,
      "outputs": []
    }
  ]
}